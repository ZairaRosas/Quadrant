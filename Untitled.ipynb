{
 "cells": [
  {
   "cell_type": "code",
   "execution_count": 1,
   "id": "white-miami",
   "metadata": {},
   "outputs": [],
   "source": [
    "import fiona\n",
    "import geopandas as gpd"
   ]
  },
  {
   "cell_type": "code",
   "execution_count": null,
   "id": "downtown-dodge",
   "metadata": {},
   "outputs": [],
   "source": [
    "data = gpd.read_file(r'F:\\Quadrant\\Procesos\\SHP\\Quadrant_Matamoros_Torreon.gdb', driver='FileGDB', layer=0)\n",
    "data="
   ]
  },
  {
   "cell_type": "code",
   "execution_count": null,
   "id": "proper-directory",
   "metadata": {},
   "outputs": [],
   "source": [
    "fiona.listlayers(data)"
   ]
  },
  {
   "cell_type": "code",
   "execution_count": null,
   "id": "mysterious-factor",
   "metadata": {},
   "outputs": [],
   "source": [
    "# Get all the layers from the .gdb file \n",
    "gdb_file = (r'F:\\Quadrant\\Procesos\\SHP\\Quadrant_Matamoros_Torreon.gdb')\n",
    "layers = fiona.listlayers(gdb_file)\n",
    "\n",
    "for layer in layers:\n",
    "    gdf = gpd.read_file(gdb_file,layer=layer)\n",
    "    # Do stuff with the gdf"
   ]
  },
  {
   "cell_type": "code",
   "execution_count": null,
   "id": "gothic-seeker",
   "metadata": {},
   "outputs": [],
   "source": []
  }
 ],
 "metadata": {
  "kernelspec": {
   "display_name": "Python 3",
   "language": "python",
   "name": "python3"
  },
  "language_info": {
   "codemirror_mode": {
    "name": "ipython",
    "version": 3
   },
   "file_extension": ".py",
   "mimetype": "text/x-python",
   "name": "python",
   "nbconvert_exporter": "python",
   "pygments_lexer": "ipython3",
   "version": "3.9.2"
  }
 },
 "nbformat": 4,
 "nbformat_minor": 5
}
