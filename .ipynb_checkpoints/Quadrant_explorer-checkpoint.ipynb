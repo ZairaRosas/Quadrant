{
 "cells": [
  {
   "cell_type": "code",
   "execution_count": 6,
   "metadata": {},
   "outputs": [],
   "source": [
    "import pandas as pd\n",
    "from pandas import read_csv"
   ]
  },
  {
   "cell_type": "code",
   "execution_count": null,
   "metadata": {},
   "outputs": [],
   "source": [
    "file = read_csv(r'E:\\Quadrant_Sin_comprimir\\02\\part-00000-c6da3795-1b1c-4509-bfa7-0de1833d6b1a-c000.csv', names = ['Device_ID', 'Lat', 'Lon', 'GPS_Accu', 'Timestamp', 'IP', 'OS_ID', 'OS', 'Country', 'Quad_ID', 'Publisher'])\n",
    "file"
   ]
  },
  {
   "cell_type": "code",
   "execution_count": 13,
   "metadata": {},
   "outputs": [
    {
     "data": {
      "text/plain": [
       "7FB3AE1C-FA3A-4E8D-9C44-A6BCF59C1F81    16771\n",
       "7fb3ae1c-fa3a-4e8d-9c44-a6bcf59c1f81      791\n",
       "f4b3633f-ddff-4701-ac5f-ed452a15dfcc      336\n",
       "a9066628-b482-438a-a8e1-4777b8a47faa      304\n",
       "6f314ba2-2d59-414e-adf3-52834b4e76de      299\n",
       "                                        ...  \n",
       "b9e2a198-e767-4c0b-8246-551e9d9456cb        1\n",
       "6f75b6d3-0ec5-42e0-82c7-f17666c2f30e        1\n",
       "7e11732e-6b0a-4dbc-a63c-9e274bb31bbd        1\n",
       "f99ff57d-73d7-43f7-9ff5-47434a072479        1\n",
       "0B61A513-18EB-4405-9A90-92C78DA8D366        1\n",
       "Name: Device_ID, Length: 3966111, dtype: int64"
      ]
     },
     "execution_count": 13,
     "metadata": {},
     "output_type": "execute_result"
    }
   ],
   "source": [
    "#verificar si el archivo tiene datos del mismo devide\n",
    "\n",
    "unique_values_Did =  file.Device_ID.value_counts()\n",
    "unique_values_Did"
   ]
  },
  {
   "cell_type": "code",
   "execution_count": null,
   "metadata": {},
   "outputs": [],
   "source": [
    "#prueba con el device que más se repite\n",
    "\n",
    "file = file[(file['Device_ID'] == '7FB3AE1C-FA3A-4E8D-9C44-A6BCF59C1F81')]\n",
    "file.sort_values(by='Timestamp1', ascending=True)"
   ]
  },
  {
   "cell_type": "code",
   "execution_count": null,
   "metadata": {},
   "outputs": [],
   "source": []
  }
 ],
 "metadata": {
  "kernelspec": {
   "display_name": "Python 3",
   "language": "python",
   "name": "python3"
  },
  "language_info": {
   "codemirror_mode": {
    "name": "ipython",
    "version": 3
   },
   "file_extension": ".py",
   "mimetype": "text/x-python",
   "name": "python",
   "nbconvert_exporter": "python",
   "pygments_lexer": "ipython3",
   "version": "3.7.0"
  }
 },
 "nbformat": 4,
 "nbformat_minor": 4
}
